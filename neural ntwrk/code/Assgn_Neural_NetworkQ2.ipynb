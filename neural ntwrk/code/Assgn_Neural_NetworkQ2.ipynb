{
 "cells": [
  {
   "cell_type": "markdown",
   "id": "ec2f29b3",
   "metadata": {},
   "source": [
    "### Importing libraries\n"
   ]
  },
  {
   "cell_type": "code",
   "execution_count": 1,
   "id": "8b0818c3",
   "metadata": {},
   "outputs": [],
   "source": [
    "import pandas as pd\n",
    "import matplotlib.pyplot as plt\n",
    "import numpy as np\n",
    "\n",
    "import seaborn as sns\n",
    "import keras\n",
    "\n",
    "from sklearn import preprocessing\n",
    "from sklearn.preprocessing import StandardScaler\n",
    "from sklearn.preprocessing import MinMaxScaler\n",
    "from keras.models import Sequential\n",
    "from keras.layers import Dense\n",
    "\n",
    "# libraries for tuning hyperparameters\n",
    "from sklearn.model_selection import GridSearchCV , KFold\n",
    "from keras.wrappers.scikit_learn import KerasRegressor\n",
    "from tensorflow.keras.optimizers import Adam\n",
    "import warnings\n",
    "warnings.filterwarnings('ignore')"
   ]
  },
  {
   "cell_type": "code",
   "execution_count": 2,
   "id": "05908e10",
   "metadata": {},
   "outputs": [
    {
     "data": {
      "text/html": [
       "<div>\n",
       "<style scoped>\n",
       "    .dataframe tbody tr th:only-of-type {\n",
       "        vertical-align: middle;\n",
       "    }\n",
       "\n",
       "    .dataframe tbody tr th {\n",
       "        vertical-align: top;\n",
       "    }\n",
       "\n",
       "    .dataframe thead th {\n",
       "        text-align: right;\n",
       "    }\n",
       "</style>\n",
       "<table border=\"1\" class=\"dataframe\">\n",
       "  <thead>\n",
       "    <tr style=\"text-align: right;\">\n",
       "      <th></th>\n",
       "      <th>AT</th>\n",
       "      <th>AP</th>\n",
       "      <th>AH</th>\n",
       "      <th>AFDP</th>\n",
       "      <th>GTEP</th>\n",
       "      <th>TIT</th>\n",
       "      <th>TAT</th>\n",
       "      <th>TEY</th>\n",
       "      <th>CDP</th>\n",
       "      <th>CO</th>\n",
       "      <th>NOX</th>\n",
       "    </tr>\n",
       "  </thead>\n",
       "  <tbody>\n",
       "    <tr>\n",
       "      <th>0</th>\n",
       "      <td>6.8594</td>\n",
       "      <td>1007.9</td>\n",
       "      <td>96.799</td>\n",
       "      <td>3.5000</td>\n",
       "      <td>19.663</td>\n",
       "      <td>1059.2</td>\n",
       "      <td>550.00</td>\n",
       "      <td>114.70</td>\n",
       "      <td>10.605</td>\n",
       "      <td>3.1547</td>\n",
       "      <td>82.722</td>\n",
       "    </tr>\n",
       "    <tr>\n",
       "      <th>1</th>\n",
       "      <td>6.7850</td>\n",
       "      <td>1008.4</td>\n",
       "      <td>97.118</td>\n",
       "      <td>3.4998</td>\n",
       "      <td>19.728</td>\n",
       "      <td>1059.3</td>\n",
       "      <td>550.00</td>\n",
       "      <td>114.72</td>\n",
       "      <td>10.598</td>\n",
       "      <td>3.2363</td>\n",
       "      <td>82.776</td>\n",
       "    </tr>\n",
       "    <tr>\n",
       "      <th>2</th>\n",
       "      <td>6.8977</td>\n",
       "      <td>1008.8</td>\n",
       "      <td>95.939</td>\n",
       "      <td>3.4824</td>\n",
       "      <td>19.779</td>\n",
       "      <td>1059.4</td>\n",
       "      <td>549.87</td>\n",
       "      <td>114.71</td>\n",
       "      <td>10.601</td>\n",
       "      <td>3.2012</td>\n",
       "      <td>82.468</td>\n",
       "    </tr>\n",
       "    <tr>\n",
       "      <th>3</th>\n",
       "      <td>7.0569</td>\n",
       "      <td>1009.2</td>\n",
       "      <td>95.249</td>\n",
       "      <td>3.4805</td>\n",
       "      <td>19.792</td>\n",
       "      <td>1059.6</td>\n",
       "      <td>549.99</td>\n",
       "      <td>114.72</td>\n",
       "      <td>10.606</td>\n",
       "      <td>3.1923</td>\n",
       "      <td>82.670</td>\n",
       "    </tr>\n",
       "    <tr>\n",
       "      <th>4</th>\n",
       "      <td>7.3978</td>\n",
       "      <td>1009.7</td>\n",
       "      <td>95.150</td>\n",
       "      <td>3.4976</td>\n",
       "      <td>19.765</td>\n",
       "      <td>1059.7</td>\n",
       "      <td>549.98</td>\n",
       "      <td>114.72</td>\n",
       "      <td>10.612</td>\n",
       "      <td>3.2484</td>\n",
       "      <td>82.311</td>\n",
       "    </tr>\n",
       "  </tbody>\n",
       "</table>\n",
       "</div>"
      ],
      "text/plain": [
       "       AT      AP      AH    AFDP    GTEP     TIT     TAT     TEY     CDP  \\\n",
       "0  6.8594  1007.9  96.799  3.5000  19.663  1059.2  550.00  114.70  10.605   \n",
       "1  6.7850  1008.4  97.118  3.4998  19.728  1059.3  550.00  114.72  10.598   \n",
       "2  6.8977  1008.8  95.939  3.4824  19.779  1059.4  549.87  114.71  10.601   \n",
       "3  7.0569  1009.2  95.249  3.4805  19.792  1059.6  549.99  114.72  10.606   \n",
       "4  7.3978  1009.7  95.150  3.4976  19.765  1059.7  549.98  114.72  10.612   \n",
       "\n",
       "       CO     NOX  \n",
       "0  3.1547  82.722  \n",
       "1  3.2363  82.776  \n",
       "2  3.2012  82.468  \n",
       "3  3.1923  82.670  \n",
       "4  3.2484  82.311  "
      ]
     },
     "execution_count": 2,
     "metadata": {},
     "output_type": "execute_result"
    }
   ],
   "source": [
    "turbines = pd.read_csv('gas_turbines.csv')\n",
    "turbines.head()"
   ]
  },
  {
   "cell_type": "code",
   "execution_count": 3,
   "id": "f8395e8f",
   "metadata": {},
   "outputs": [
    {
     "data": {
      "text/plain": [
       "(15039, 11)"
      ]
     },
     "execution_count": 3,
     "metadata": {},
     "output_type": "execute_result"
    }
   ],
   "source": [
    "turbines.shape"
   ]
  },
  {
   "cell_type": "code",
   "execution_count": 4,
   "id": "222c6c9e",
   "metadata": {},
   "outputs": [
    {
     "data": {
      "text/plain": [
       "AT      0\n",
       "AP      0\n",
       "AH      0\n",
       "AFDP    0\n",
       "GTEP    0\n",
       "TIT     0\n",
       "TAT     0\n",
       "TEY     0\n",
       "CDP     0\n",
       "CO      0\n",
       "NOX     0\n",
       "dtype: int64"
      ]
     },
     "execution_count": 4,
     "metadata": {},
     "output_type": "execute_result"
    }
   ],
   "source": [
    "turbines.isnull().sum()"
   ]
  },
  {
   "cell_type": "code",
   "execution_count": 5,
   "id": "c4700689",
   "metadata": {},
   "outputs": [
    {
     "data": {
      "text/html": [
       "<div>\n",
       "<style scoped>\n",
       "    .dataframe tbody tr th:only-of-type {\n",
       "        vertical-align: middle;\n",
       "    }\n",
       "\n",
       "    .dataframe tbody tr th {\n",
       "        vertical-align: top;\n",
       "    }\n",
       "\n",
       "    .dataframe thead th {\n",
       "        text-align: right;\n",
       "    }\n",
       "</style>\n",
       "<table border=\"1\" class=\"dataframe\">\n",
       "  <thead>\n",
       "    <tr style=\"text-align: right;\">\n",
       "      <th></th>\n",
       "      <th>AT</th>\n",
       "      <th>AP</th>\n",
       "      <th>AH</th>\n",
       "      <th>AFDP</th>\n",
       "      <th>GTEP</th>\n",
       "      <th>TIT</th>\n",
       "      <th>TAT</th>\n",
       "      <th>TEY</th>\n",
       "      <th>CDP</th>\n",
       "      <th>CO</th>\n",
       "      <th>NOX</th>\n",
       "    </tr>\n",
       "  </thead>\n",
       "  <tbody>\n",
       "  </tbody>\n",
       "</table>\n",
       "</div>"
      ],
      "text/plain": [
       "Empty DataFrame\n",
       "Columns: [AT, AP, AH, AFDP, GTEP, TIT, TAT, TEY, CDP, CO, NOX]\n",
       "Index: []"
      ]
     },
     "execution_count": 5,
     "metadata": {},
     "output_type": "execute_result"
    }
   ],
   "source": [
    "turbines[turbines.duplicated()]"
   ]
  },
  {
   "cell_type": "code",
   "execution_count": 6,
   "id": "a557950d",
   "metadata": {},
   "outputs": [
    {
     "data": {
      "image/png": "[encoded data removed]",
      "text/plain": [
       "<Figure size 864x576 with 12 Axes>"
      ]
     },
     "metadata": {
      "needs_background": "light"
     },
     "output_type": "display_data"
    }
   ],
   "source": [
    "fig, ax = plt.subplots(4, 3, figsize=(12,8))\n",
    "sns.distplot(turbines.AT, ax=ax[0,0])\n",
    "sns.distplot(turbines.AP, ax = ax[0,1])\n",
    "sns.distplot(turbines.AH, ax = ax[0,2])\n",
    "sns.distplot(turbines.AFDP, ax = ax[1,0])\n",
    "sns.distplot(turbines.GTEP, ax = ax[1,1])\n",
    "sns.distplot(turbines.TIT, ax = ax[1,2])\n",
    "sns.distplot(turbines.TAT, ax = ax[2,0])\n",
    "sns.distplot(turbines.TEY, ax = ax[2,1])\n",
    "sns.distplot(turbines.CDP, ax = ax[2,2])\n",
    "sns.distplot(turbines.CO, ax = ax[3,0])\n",
    "sns.distplot(turbines.NOX, ax = ax[3,1])\n",
    "plt.tight_layout()\n",
    "plt.show()"
   ]
  },
  {
   "cell_type": "code",
   "execution_count": 7,
   "id": "8e56ca4f",
   "metadata": {},
   "outputs": [
    {
     "data": {
      "image/png": "[encoded data removed]",
      "text/plain": [
       "<Figure size 864x576 with 12 Axes>"
      ]
     },
     "metadata": {
      "needs_background": "light"
     },
     "output_type": "display_data"
    }
   ],
   "source": [
    "# Check the outliers\n",
    "\n",
    "fig, ax = plt.subplots(4,3, figsize = (12,8))\n",
    "\n",
    "sns.boxplot(turbines.AT, ax = ax[0,0])\n",
    "sns.boxplot(turbines.AP, ax = ax[0,1])\n",
    "sns.boxplot(turbines.AH, ax = ax[0,2])\n",
    "sns.boxplot(turbines.AFDP, ax = ax[1,0])\n",
    "sns.boxplot(turbines.GTEP, ax = ax[1,1])\n",
    "sns.boxplot(turbines.TIT, ax = ax[1,2])\n",
    "sns.boxplot(turbines.TAT, ax = ax[2,0])\n",
    "sns.boxplot(turbines.TEY, ax = ax[2,1])\n",
    "sns.boxplot(turbines.CDP, ax = ax[2,2])\n",
    "sns.boxplot(turbines.CO, ax = ax[3,0])\n",
    "sns.boxplot(turbines.NOX, ax = ax[3,1])\n",
    "plt.tight_layout()\n",
    "plt.show()"
   ]
  },
  {
   "cell_type": "code",
   "execution_count": 8,
   "id": "2b9d3427",
   "metadata": {},
   "outputs": [
    {
     "data": {
      "text/html": [
       "<div>\n",
       "<style scoped>\n",
       "    .dataframe tbody tr th:only-of-type {\n",
       "        vertical-align: middle;\n",
       "    }\n",
       "\n",
       "    .dataframe tbody tr th {\n",
       "        vertical-align: top;\n",
       "    }\n",
       "\n",
       "    .dataframe thead th {\n",
       "        text-align: right;\n",
       "    }\n",
       "</style>\n",
       "<table border=\"1\" class=\"dataframe\">\n",
       "  <thead>\n",
       "    <tr style=\"text-align: right;\">\n",
       "      <th></th>\n",
       "      <th>AT</th>\n",
       "      <th>AP</th>\n",
       "      <th>AH</th>\n",
       "      <th>AFDP</th>\n",
       "      <th>GTEP</th>\n",
       "      <th>TIT</th>\n",
       "      <th>TAT</th>\n",
       "      <th>TEY</th>\n",
       "      <th>CDP</th>\n",
       "      <th>CO</th>\n",
       "      <th>NOX</th>\n",
       "    </tr>\n",
       "  </thead>\n",
       "  <tbody>\n",
       "    <tr>\n",
       "      <th>0</th>\n",
       "      <td>0.184182</td>\n",
       "      <td>0.456050</td>\n",
       "      <td>0.951314</td>\n",
       "      <td>0.255758</td>\n",
       "      <td>0.091426</td>\n",
       "      <td>0.584</td>\n",
       "      <td>0.984015</td>\n",
       "      <td>0.195191</td>\n",
       "      <td>0.135340</td>\n",
       "      <td>0.071522</td>\n",
       "      <td>0.596548</td>\n",
       "    </tr>\n",
       "    <tr>\n",
       "      <th>1</th>\n",
       "      <td>0.182020</td>\n",
       "      <td>0.466391</td>\n",
       "      <td>0.955881</td>\n",
       "      <td>0.255721</td>\n",
       "      <td>0.094755</td>\n",
       "      <td>0.585</td>\n",
       "      <td>0.984015</td>\n",
       "      <td>0.195459</td>\n",
       "      <td>0.133988</td>\n",
       "      <td>0.073372</td>\n",
       "      <td>0.597134</td>\n",
       "    </tr>\n",
       "    <tr>\n",
       "      <th>2</th>\n",
       "      <td>0.185295</td>\n",
       "      <td>0.474664</td>\n",
       "      <td>0.939003</td>\n",
       "      <td>0.252571</td>\n",
       "      <td>0.097367</td>\n",
       "      <td>0.586</td>\n",
       "      <td>0.980608</td>\n",
       "      <td>0.195325</td>\n",
       "      <td>0.134567</td>\n",
       "      <td>0.072576</td>\n",
       "      <td>0.593791</td>\n",
       "    </tr>\n",
       "    <tr>\n",
       "      <th>3</th>\n",
       "      <td>0.189922</td>\n",
       "      <td>0.482937</td>\n",
       "      <td>0.929126</td>\n",
       "      <td>0.252227</td>\n",
       "      <td>0.098033</td>\n",
       "      <td>0.588</td>\n",
       "      <td>0.983753</td>\n",
       "      <td>0.195459</td>\n",
       "      <td>0.135533</td>\n",
       "      <td>0.072375</td>\n",
       "      <td>0.595984</td>\n",
       "    </tr>\n",
       "    <tr>\n",
       "      <th>4</th>\n",
       "      <td>0.199830</td>\n",
       "      <td>0.493278</td>\n",
       "      <td>0.927708</td>\n",
       "      <td>0.255323</td>\n",
       "      <td>0.096650</td>\n",
       "      <td>0.589</td>\n",
       "      <td>0.983491</td>\n",
       "      <td>0.195459</td>\n",
       "      <td>0.136692</td>\n",
       "      <td>0.073647</td>\n",
       "      <td>0.592087</td>\n",
       "    </tr>\n",
       "    <tr>\n",
       "      <th>...</th>\n",
       "      <td>...</td>\n",
       "      <td>...</td>\n",
       "      <td>...</td>\n",
       "      <td>...</td>\n",
       "      <td>...</td>\n",
       "      <td>...</td>\n",
       "      <td>...</td>\n",
       "      <td>...</td>\n",
       "      <td>...</td>\n",
       "      <td>...</td>\n",
       "      <td>...</td>\n",
       "    </tr>\n",
       "    <tr>\n",
       "      <th>15034</th>\n",
       "      <td>0.247272</td>\n",
       "      <td>0.408480</td>\n",
       "      <td>0.975092</td>\n",
       "      <td>0.263380</td>\n",
       "      <td>0.065868</td>\n",
       "      <td>0.489</td>\n",
       "      <td>0.884696</td>\n",
       "      <td>0.153681</td>\n",
       "      <td>0.095739</td>\n",
       "      <td>0.102448</td>\n",
       "      <td>0.562214</td>\n",
       "    </tr>\n",
       "    <tr>\n",
       "      <th>15035</th>\n",
       "      <td>0.214075</td>\n",
       "      <td>0.414685</td>\n",
       "      <td>0.984153</td>\n",
       "      <td>0.256826</td>\n",
       "      <td>0.078672</td>\n",
       "      <td>0.455</td>\n",
       "      <td>0.806342</td>\n",
       "      <td>0.155965</td>\n",
       "      <td>0.102113</td>\n",
       "      <td>0.109894</td>\n",
       "      <td>0.566100</td>\n",
       "    </tr>\n",
       "    <tr>\n",
       "      <th>15036</th>\n",
       "      <td>0.195962</td>\n",
       "      <td>0.422958</td>\n",
       "      <td>0.989922</td>\n",
       "      <td>0.251593</td>\n",
       "      <td>0.084614</td>\n",
       "      <td>0.369</td>\n",
       "      <td>0.651730</td>\n",
       "      <td>0.134605</td>\n",
       "      <td>0.111772</td>\n",
       "      <td>0.180552</td>\n",
       "      <td>0.685449</td>\n",
       "    </tr>\n",
       "    <tr>\n",
       "      <th>15037</th>\n",
       "      <td>0.188443</td>\n",
       "      <td>0.433299</td>\n",
       "      <td>0.982936</td>\n",
       "      <td>0.246451</td>\n",
       "      <td>0.076777</td>\n",
       "      <td>0.424</td>\n",
       "      <td>0.754455</td>\n",
       "      <td>0.141994</td>\n",
       "      <td>0.121431</td>\n",
       "      <td>0.141693</td>\n",
       "      <td>0.710578</td>\n",
       "    </tr>\n",
       "    <tr>\n",
       "      <th>15038</th>\n",
       "      <td>0.186173</td>\n",
       "      <td>0.441572</td>\n",
       "      <td>0.961821</td>\n",
       "      <td>0.242631</td>\n",
       "      <td>0.073141</td>\n",
       "      <td>0.491</td>\n",
       "      <td>0.875262</td>\n",
       "      <td>0.153278</td>\n",
       "      <td>0.131090</td>\n",
       "      <td>0.112946</td>\n",
       "      <td>0.702665</td>\n",
       "    </tr>\n",
       "  </tbody>\n",
       "</table>\n",
       "<p>15039 rows × 11 columns</p>\n",
       "</div>"
      ],
      "text/plain": [
       "             AT        AP        AH      AFDP      GTEP    TIT       TAT  \\\n",
       "0      0.184182  0.456050  0.951314  0.255758  0.091426  0.584  0.984015   \n",
       "1      0.182020  0.466391  0.955881  0.255721  0.094755  0.585  0.984015   \n",
       "2      0.185295  0.474664  0.939003  0.252571  0.097367  0.586  0.980608   \n",
       "3      0.189922  0.482937  0.929126  0.252227  0.098033  0.588  0.983753   \n",
       "4      0.199830  0.493278  0.927708  0.255323  0.096650  0.589  0.983491   \n",
       "...         ...       ...       ...       ...       ...    ...       ...   \n",
       "15034  0.247272  0.408480  0.975092  0.263380  0.065868  0.489  0.884696   \n",
       "15035  0.214075  0.414685  0.984153  0.256826  0.078672  0.455  0.806342   \n",
       "15036  0.195962  0.422958  0.989922  0.251593  0.084614  0.369  0.651730   \n",
       "15037  0.188443  0.433299  0.982936  0.246451  0.076777  0.424  0.754455   \n",
       "15038  0.186173  0.441572  0.961821  0.242631  0.073141  0.491  0.875262   \n",
       "\n",
       "            TEY       CDP        CO       NOX  \n",
       "0      0.195191  0.135340  0.071522  0.596548  \n",
       "1      0.195459  0.133988  0.073372  0.597134  \n",
       "2      0.195325  0.134567  0.072576  0.593791  \n",
       "3      0.195459  0.135533  0.072375  0.595984  \n",
       "4      0.195459  0.136692  0.073647  0.592087  \n",
       "...         ...       ...       ...       ...  \n",
       "15034  0.153681  0.095739  0.102448  0.562214  \n",
       "15035  0.155965  0.102113  0.109894  0.566100  \n",
       "15036  0.134605  0.111772  0.180552  0.685449  \n",
       "15037  0.141994  0.121431  0.141693  0.710578  \n",
       "15038  0.153278  0.131090  0.112946  0.702665  \n",
       "\n",
       "[15039 rows x 11 columns]"
      ]
     },
     "execution_count": 8,
     "metadata": {},
     "output_type": "execute_result"
    }
   ],
   "source": [
    "scale=MinMaxScaler()\n",
    "turbines1=pd.DataFrame(scale.fit_transform(turbines),columns=['AT','AP','AH','AFDP','GTEP','TIT','TAT','TEY','CDP','CO','NOX'])\n",
    "turbines1"
   ]
  },
  {
   "cell_type": "markdown",
   "id": "942930b2",
   "metadata": {},
   "source": [
    "#### Extracting independent and dependent variables"
   ]
  },
  {
   "cell_type": "code",
   "execution_count": 9,
   "id": "c76a67a7",
   "metadata": {},
   "outputs": [],
   "source": [
    "X = turbines1.drop(axis =0, columns ='TEY').values\n",
    "Y = turbines1['TEY'].values"
   ]
  },
  {
   "cell_type": "code",
   "execution_count": 10,
   "id": "c774ed9e",
   "metadata": {},
   "outputs": [
    {
     "data": {
      "text/plain": [
       "array([[0.18418215, 0.45604964, 0.95131413, ..., 0.1353398 , 0.07152212,\n",
       "        0.59654817],\n",
       "       [0.18201978, 0.4663909 , 0.95588067, ..., 0.13398756, 0.07337235,\n",
       "        0.59713433],\n",
       "       [0.18529531, 0.47466391, 0.93900309, ..., 0.13456709, 0.07257648,\n",
       "        0.59379104],\n",
       "       ...,\n",
       "       [0.19596183, 0.4229576 , 0.98992213, ..., 0.11177221, 0.18055195,\n",
       "        0.68544912],\n",
       "       [0.18844295, 0.43329886, 0.98293633, ..., 0.12143106, 0.14169257,\n",
       "        0.71057802],\n",
       "       [0.18617304, 0.44157187, 0.96182146, ..., 0.1310899 , 0.11294597,\n",
       "        0.70266486]])"
      ]
     },
     "execution_count": 10,
     "metadata": {},
     "output_type": "execute_result"
    }
   ],
   "source": [
    "X"
   ]
  },
  {
   "cell_type": "code",
   "execution_count": 11,
   "id": "82d6eb79",
   "metadata": {},
   "outputs": [
    {
     "data": {
      "text/plain": [
       "array([0.19519076, 0.19545943, 0.19532509, ..., 0.13460505, 0.14199355,\n",
       "       0.15327781])"
      ]
     },
     "execution_count": 11,
     "metadata": {},
     "output_type": "execute_result"
    }
   ],
   "source": [
    "Y"
   ]
  },
  {
   "cell_type": "code",
   "execution_count": 12,
   "id": "d46b4a41",
   "metadata": {},
   "outputs": [
    {
     "data": {
      "text/plain": [
       "<keras.metrics.metrics.MeanSquaredError at 0x1707b827580>"
      ]
     },
     "execution_count": 12,
     "metadata": {},
     "output_type": "execute_result"
    }
   ],
   "source": [
    "keras.metrics.MeanSquaredError(name=\"mean_squared_error\", dtype=None)\n",
    "keras.metrics.MeanSquaredError()"
   ]
  },
  {
   "cell_type": "code",
   "execution_count": 13,
   "id": "cd0b424f",
   "metadata": {},
   "outputs": [],
   "source": [
    "# Setting certain fix value of random seed for reproductibility\n",
    "seed = 7\n",
    "np.random.seed(seed)"
   ]
  },
  {
   "cell_type": "markdown",
   "id": "5951f541",
   "metadata": {},
   "source": [
    "###  Model building"
   ]
  },
  {
   "cell_type": "markdown",
   "id": "5fa77184",
   "metadata": {},
   "source": [
    "####  Create the model"
   ]
  },
  {
   "cell_type": "code",
   "execution_count": 14,
   "id": "5b8d9850",
   "metadata": {},
   "outputs": [],
   "source": [
    "model = Sequential()\n",
    "model.add(Dense(12, input_dim =10, kernel_initializer = 'uniform', activation ='relu'))\n",
    "model.add(Dense(8, kernel_initializer ='uniform', activation ='relu'))\n",
    "model.add(Dense(1, kernel_initializer ='uniform', activation ='relu'))  \n"
   ]
  },
  {
   "cell_type": "markdown",
   "id": "4341b101",
   "metadata": {},
   "source": [
    "#### Compile the model"
   ]
  },
  {
   "cell_type": "code",
   "execution_count": 15,
   "id": "33e07a11",
   "metadata": {},
   "outputs": [],
   "source": [
    "model.compile(loss = 'mse', optimizer='adam', metrics=[keras.metrics.MeanSquaredError()]) "
   ]
  },
  {
   "cell_type": "markdown",
   "id": "9d75d2e4",
   "metadata": {},
   "source": [
    "#### Fit the model"
   ]
  },
  {
   "cell_type": "code",
   "execution_count": 16,
   "id": "dc3f24ee",
   "metadata": {},
   "outputs": [
    {
     "name": "stdout",
     "output_type": "stream",
     "text": [
      "Epoch 1/100\n",
      "1008/1008 [==============================] - 4s 3ms/step - loss: 0.2688 - mean_squared_error: 0.2688 - val_loss: 0.2241 - val_mean_squared_error: 0.2241\n",
      "Epoch 2/100\n",
      "1008/1008 [==============================] - 3s 3ms/step - loss: 0.2688 - mean_squared_error: 0.2688 - val_loss: 0.2241 - val_mean_squared_error: 0.2241\n",
      "Epoch 3/100\n",
      "1008/1008 [==============================] - 3s 3ms/step - loss: 0.2688 - mean_squared_error: 0.2688 - val_loss: 0.2241 - val_mean_squared_error: 0.2241\n",
      "Epoch 4/100\n",
      "1008/1008 [==============================] - 3s 3ms/step - loss: 0.2688 - mean_squared_error: 0.2688 - val_loss: 0.2241 - val_mean_squared_error: 0.2241\n",
      "Epoch 5/100\n",
      "1008/1008 [==============================] - 3s 3ms/step - loss: 0.2688 - mean_squared_error: 0.2688 - val_loss: 0.2241 - val_mean_squared_error: 0.2241\n",
      "Epoch 6/100\n",
      "1008/1008 [==============================] - 3s 3ms/step - loss: 0.2688 - mean_squared_error: 0.2688 - val_loss: 0.2241 - val_mean_squared_error: 0.2241\n",
      "Epoch 7/100\n",
      "1008/1008 [==============================] - 3s 3ms/step - loss: 0.2688 - mean_squared_error: 0.2688 - val_loss: 0.2241 - val_mean_squared_error: 0.2241\n",
      "Epoch 8/100\n",
      "1008/1008 [==============================] - 3s 3ms/step - loss: 0.2688 - mean_squared_error: 0.2688 - val_loss: 0.2241 - val_mean_squared_error: 0.2241\n",
      "Epoch 9/100\n",
      "1008/1008 [==============================] - 3s 3ms/step - loss: 0.2688 - mean_squared_error: 0.2688 - val_loss: 0.2241 - val_mean_squared_error: 0.2241\n",
      "Epoch 10/100\n",
      "1008/1008 [==============================] - 3s 3ms/step - loss: 0.2688 - mean_squared_error: 0.2688 - val_loss: 0.2241 - val_mean_squared_error: 0.2241\n",
      "Epoch 11/100\n",
      "1008/1008 [==============================] - 3s 3ms/step - loss: 0.2688 - mean_squared_error: 0.2688 - val_loss: 0.2241 - val_mean_squared_error: 0.2241\n",
      "Epoch 12/100\n",
      "1008/1008 [==============================] - 3s 3ms/step - loss: 0.2688 - mean_squared_error: 0.2688 - val_loss: 0.2241 - val_mean_squared_error: 0.2241\n",
      "Epoch 13/100\n",
      "1008/1008 [==============================] - 3s 3ms/step - loss: 0.2688 - mean_squared_error: 0.2688 - val_loss: 0.2241 - val_mean_squared_error: 0.2241\n",
      "Epoch 14/100\n",
      "1008/1008 [==============================] - 3s 3ms/step - loss: 0.2688 - mean_squared_error: 0.2688 - val_loss: 0.2241 - val_mean_squared_error: 0.2241\n",
      "Epoch 15/100\n",
      "1008/1008 [==============================] - 3s 3ms/step - loss: 0.2688 - mean_squared_error: 0.2688 - val_loss: 0.2241 - val_mean_squared_error: 0.2241\n",
      "Epoch 16/100\n",
      "1008/1008 [==============================] - 3s 3ms/step - loss: 0.2688 - mean_squared_error: 0.2688 - val_loss: 0.2241 - val_mean_squared_error: 0.2241\n",
      "Epoch 17/100\n",
      "1008/1008 [==============================] - 3s 3ms/step - loss: 0.2688 - mean_squared_error: 0.2688 - val_loss: 0.2241 - val_mean_squared_error: 0.2241\n",
      "Epoch 18/100\n",
      "1008/1008 [==============================] - 3s 3ms/step - loss: 0.2688 - mean_squared_error: 0.2688 - val_loss: 0.2241 - val_mean_squared_error: 0.2241\n",
      "Epoch 19/100\n",
      "1008/1008 [==============================] - 3s 3ms/step - loss: 0.2688 - mean_squared_error: 0.2688 - val_loss: 0.2241 - val_mean_squared_error: 0.2241\n",
      "Epoch 20/100\n",
      "1008/1008 [==============================] - 3s 3ms/step - loss: 0.2688 - mean_squared_error: 0.2688 - val_loss: 0.2241 - val_mean_squared_error: 0.2241\n",
      "Epoch 21/100\n",
      "1008/1008 [==============================] - 3s 3ms/step - loss: 0.2688 - mean_squared_error: 0.2688 - val_loss: 0.2241 - val_mean_squared_error: 0.2241\n",
      "Epoch 22/100\n",
      "1008/1008 [==============================] - 3s 3ms/step - loss: 0.2688 - mean_squared_error: 0.2688 - val_loss: 0.2241 - val_mean_squared_error: 0.2241\n",
      "Epoch 23/100\n",
      "1008/1008 [==============================] - 3s 3ms/step - loss: 0.2688 - mean_squared_error: 0.2688 - val_loss: 0.2241 - val_mean_squared_error: 0.2241\n",
      "Epoch 24/100\n",
      "1008/1008 [==============================] - 3s 3ms/step - loss: 0.2688 - mean_squared_error: 0.2688 - val_loss: 0.2241 - val_mean_squared_error: 0.2241\n",
      "Epoch 25/100\n",
      "1008/1008 [==============================] - 3s 3ms/step - loss: 0.2688 - mean_squared_error: 0.2688 - val_loss: 0.2241 - val_mean_squared_error: 0.2241\n",
      "Epoch 26/100\n",
      "1008/1008 [==============================] - 3s 3ms/step - loss: 0.2688 - mean_squared_error: 0.2688 - val_loss: 0.2241 - val_mean_squared_error: 0.2241\n",
      "Epoch 27/100\n",
      "1008/1008 [==============================] - 3s 3ms/step - loss: 0.2688 - mean_squared_error: 0.2688 - val_loss: 0.2241 - val_mean_squared_error: 0.2241\n",
      "Epoch 28/100\n",
      "1008/1008 [==============================] - 3s 3ms/step - loss: 0.2688 - mean_squared_error: 0.2688 - val_loss: 0.2241 - val_mean_squared_error: 0.2241\n",
      "Epoch 29/100\n",
      "1008/1008 [==============================] - 3s 3ms/step - loss: 0.2688 - mean_squared_error: 0.2688 - val_loss: 0.2241 - val_mean_squared_error: 0.2241\n",
      "Epoch 30/100\n",
      "1008/1008 [==============================] - 3s 3ms/step - loss: 0.2688 - mean_squared_error: 0.2688 - val_loss: 0.2241 - val_mean_squared_error: 0.2241\n",
      "Epoch 31/100\n",
      "1008/1008 [==============================] - 3s 3ms/step - loss: 0.2688 - mean_squared_error: 0.2688 - val_loss: 0.2241 - val_mean_squared_error: 0.2241\n",
      "Epoch 32/100\n",
      "1008/1008 [==============================] - 3s 3ms/step - loss: 0.2688 - mean_squared_error: 0.2688 - val_loss: 0.2241 - val_mean_squared_error: 0.2241\n",
      "Epoch 33/100\n",
      "1008/1008 [==============================] - 3s 3ms/step - loss: 0.2688 - mean_squared_error: 0.2688 - val_loss: 0.2241 - val_mean_squared_error: 0.2241\n",
      "Epoch 34/100\n",
      "1008/1008 [==============================] - 3s 3ms/step - loss: 0.2688 - mean_squared_error: 0.2688 - val_loss: 0.2241 - val_mean_squared_error: 0.2241\n",
      "Epoch 35/100\n",
      "1008/1008 [==============================] - 3s 3ms/step - loss: 0.2688 - mean_squared_error: 0.2688 - val_loss: 0.2241 - val_mean_squared_error: 0.2241\n",
      "Epoch 36/100\n",
      "1008/1008 [==============================] - 3s 3ms/step - loss: 0.2688 - mean_squared_error: 0.2688 - val_loss: 0.2241 - val_mean_squared_error: 0.2241\n",
      "Epoch 37/100\n",
      "1008/1008 [==============================] - 3s 3ms/step - loss: 0.2688 - mean_squared_error: 0.2688 - val_loss: 0.2241 - val_mean_squared_error: 0.2241\n",
      "Epoch 38/100\n",
      "1008/1008 [==============================] - 3s 3ms/step - loss: 0.2688 - mean_squared_error: 0.2688 - val_loss: 0.2241 - val_mean_squared_error: 0.2241\n",
      "Epoch 39/100\n",
      "1008/1008 [==============================] - 3s 3ms/step - loss: 0.2688 - mean_squared_error: 0.2688 - val_loss: 0.2241 - val_mean_squared_error: 0.2241\n",
      "Epoch 40/100\n",
      "1008/1008 [==============================] - 3s 3ms/step - loss: 0.2688 - mean_squared_error: 0.2688 - val_loss: 0.2241 - val_mean_squared_error: 0.2241\n",
      "Epoch 41/100\n",
      "1008/1008 [==============================] - 3s 3ms/step - loss: 0.2688 - mean_squared_error: 0.2688 - val_loss: 0.2241 - val_mean_squared_error: 0.2241\n",
      "Epoch 42/100\n",
      "1008/1008 [==============================] - 3s 3ms/step - loss: 0.2688 - mean_squared_error: 0.2688 - val_loss: 0.2241 - val_mean_squared_error: 0.2241\n",
      "Epoch 43/100\n",
      "1008/1008 [==============================] - 3s 3ms/step - loss: 0.2688 - mean_squared_error: 0.2688 - val_loss: 0.2241 - val_mean_squared_error: 0.2241\n",
      "Epoch 44/100\n",
      "1008/1008 [==============================] - 3s 3ms/step - loss: 0.2688 - mean_squared_error: 0.2688 - val_loss: 0.2241 - val_mean_squared_error: 0.2241\n",
      "Epoch 45/100\n",
      "1008/1008 [==============================] - 3s 3ms/step - loss: 0.2688 - mean_squared_error: 0.2688 - val_loss: 0.2241 - val_mean_squared_error: 0.2241\n",
      "Epoch 46/100\n",
      "1008/1008 [==============================] - 3s 3ms/step - loss: 0.2688 - mean_squared_error: 0.2688 - val_loss: 0.2241 - val_mean_squared_error: 0.2241\n",
      "Epoch 47/100\n",
      "1008/1008 [==============================] - 3s 3ms/step - loss: 0.2688 - mean_squared_error: 0.2688 - val_loss: 0.2241 - val_mean_squared_error: 0.2241\n",
      "Epoch 48/100\n",
      "1008/1008 [==============================] - 3s 3ms/step - loss: 0.2688 - mean_squared_error: 0.2688 - val_loss: 0.2241 - val_mean_squared_error: 0.2241\n",
      "Epoch 49/100\n",
      "1008/1008 [==============================] - 3s 3ms/step - loss: 0.2688 - mean_squared_error: 0.2688 - val_loss: 0.2241 - val_mean_squared_error: 0.2241\n",
      "Epoch 50/100\n"
     ]
    },
    {
     "name": "stdout",
     "output_type": "stream",
     "text": [
      "1008/1008 [==============================] - 3s 3ms/step - loss: 0.2688 - mean_squared_error: 0.2688 - val_loss: 0.2241 - val_mean_squared_error: 0.2241\n",
      "Epoch 51/100\n",
      "1008/1008 [==============================] - 3s 3ms/step - loss: 0.2688 - mean_squared_error: 0.2688 - val_loss: 0.2241 - val_mean_squared_error: 0.2241\n",
      "Epoch 52/100\n",
      "1008/1008 [==============================] - 4s 3ms/step - loss: 0.2688 - mean_squared_error: 0.2688 - val_loss: 0.2241 - val_mean_squared_error: 0.2241\n",
      "Epoch 53/100\n",
      "1008/1008 [==============================] - 4s 4ms/step - loss: 0.2688 - mean_squared_error: 0.2688 - val_loss: 0.2241 - val_mean_squared_error: 0.2241\n",
      "Epoch 54/100\n",
      "1008/1008 [==============================] - 3s 3ms/step - loss: 0.2688 - mean_squared_error: 0.2688 - val_loss: 0.2241 - val_mean_squared_error: 0.2241\n",
      "Epoch 55/100\n",
      "1008/1008 [==============================] - 3s 3ms/step - loss: 0.2688 - mean_squared_error: 0.2688 - val_loss: 0.2241 - val_mean_squared_error: 0.2241\n",
      "Epoch 56/100\n",
      "1008/1008 [==============================] - 3s 3ms/step - loss: 0.2688 - mean_squared_error: 0.2688 - val_loss: 0.2241 - val_mean_squared_error: 0.2241\n",
      "Epoch 57/100\n",
      "1008/1008 [==============================] - 3s 3ms/step - loss: 0.2688 - mean_squared_error: 0.2688 - val_loss: 0.2241 - val_mean_squared_error: 0.2241\n",
      "Epoch 58/100\n",
      "1008/1008 [==============================] - 3s 3ms/step - loss: 0.2688 - mean_squared_error: 0.2688 - val_loss: 0.2241 - val_mean_squared_error: 0.2241\n",
      "Epoch 59/100\n",
      "1008/1008 [==============================] - 3s 3ms/step - loss: 0.2688 - mean_squared_error: 0.2688 - val_loss: 0.2241 - val_mean_squared_error: 0.2241\n",
      "Epoch 60/100\n",
      "1008/1008 [==============================] - 3s 3ms/step - loss: 0.2688 - mean_squared_error: 0.2688 - val_loss: 0.2241 - val_mean_squared_error: 0.2241\n",
      "Epoch 61/100\n",
      "1008/1008 [==============================] - 3s 3ms/step - loss: 0.2688 - mean_squared_error: 0.2688 - val_loss: 0.2241 - val_mean_squared_error: 0.2241\n",
      "Epoch 62/100\n",
      "1008/1008 [==============================] - 3s 3ms/step - loss: 0.2688 - mean_squared_error: 0.2688 - val_loss: 0.2241 - val_mean_squared_error: 0.2241\n",
      "Epoch 63/100\n",
      "1008/1008 [==============================] - 3s 3ms/step - loss: 0.2688 - mean_squared_error: 0.2688 - val_loss: 0.2241 - val_mean_squared_error: 0.2241\n",
      "Epoch 64/100\n",
      "1008/1008 [==============================] - 3s 3ms/step - loss: 0.2688 - mean_squared_error: 0.2688 - val_loss: 0.2241 - val_mean_squared_error: 0.2241\n",
      "Epoch 65/100\n",
      "1008/1008 [==============================] - 3s 3ms/step - loss: 0.2688 - mean_squared_error: 0.2688 - val_loss: 0.2241 - val_mean_squared_error: 0.2241\n",
      "Epoch 66/100\n",
      "1008/1008 [==============================] - 3s 3ms/step - loss: 0.2688 - mean_squared_error: 0.2688 - val_loss: 0.2241 - val_mean_squared_error: 0.2241\n",
      "Epoch 67/100\n",
      "1008/1008 [==============================] - 3s 3ms/step - loss: 0.2688 - mean_squared_error: 0.2688 - val_loss: 0.2241 - val_mean_squared_error: 0.2241\n",
      "Epoch 68/100\n",
      "1008/1008 [==============================] - 3s 3ms/step - loss: 0.2688 - mean_squared_error: 0.2688 - val_loss: 0.2241 - val_mean_squared_error: 0.2241\n",
      "Epoch 69/100\n",
      "1008/1008 [==============================] - 3s 3ms/step - loss: 0.2688 - mean_squared_error: 0.2688 - val_loss: 0.2241 - val_mean_squared_error: 0.2241\n",
      "Epoch 70/100\n",
      "1008/1008 [==============================] - 3s 3ms/step - loss: 0.2688 - mean_squared_error: 0.2688 - val_loss: 0.2241 - val_mean_squared_error: 0.2241\n",
      "Epoch 71/100\n",
      "1008/1008 [==============================] - 3s 3ms/step - loss: 0.2688 - mean_squared_error: 0.2688 - val_loss: 0.2241 - val_mean_squared_error: 0.2241\n",
      "Epoch 72/100\n",
      "1008/1008 [==============================] - 3s 3ms/step - loss: 0.2688 - mean_squared_error: 0.2688 - val_loss: 0.2241 - val_mean_squared_error: 0.2241\n",
      "Epoch 73/100\n",
      "1008/1008 [==============================] - 3s 3ms/step - loss: 0.2688 - mean_squared_error: 0.2688 - val_loss: 0.2241 - val_mean_squared_error: 0.2241\n",
      "Epoch 74/100\n",
      "1008/1008 [==============================] - 3s 3ms/step - loss: 0.2688 - mean_squared_error: 0.2688 - val_loss: 0.2241 - val_mean_squared_error: 0.2241\n",
      "Epoch 75/100\n",
      "1008/1008 [==============================] - 3s 3ms/step - loss: 0.2688 - mean_squared_error: 0.2688 - val_loss: 0.2241 - val_mean_squared_error: 0.2241\n",
      "Epoch 76/100\n",
      "1008/1008 [==============================] - 3s 3ms/step - loss: 0.2688 - mean_squared_error: 0.2688 - val_loss: 0.2241 - val_mean_squared_error: 0.2241\n",
      "Epoch 77/100\n",
      "1008/1008 [==============================] - 3s 3ms/step - loss: 0.2688 - mean_squared_error: 0.2688 - val_loss: 0.2241 - val_mean_squared_error: 0.2241\n",
      "Epoch 78/100\n",
      "1008/1008 [==============================] - 3s 3ms/step - loss: 0.2688 - mean_squared_error: 0.2688 - val_loss: 0.2241 - val_mean_squared_error: 0.2241\n",
      "Epoch 79/100\n",
      "1008/1008 [==============================] - 3s 3ms/step - loss: 0.2688 - mean_squared_error: 0.2688 - val_loss: 0.2241 - val_mean_squared_error: 0.2241\n",
      "Epoch 80/100\n",
      "1008/1008 [==============================] - 3s 3ms/step - loss: 0.2688 - mean_squared_error: 0.2688 - val_loss: 0.2241 - val_mean_squared_error: 0.2241\n",
      "Epoch 81/100\n",
      "1008/1008 [==============================] - 3s 3ms/step - loss: 0.2688 - mean_squared_error: 0.2688 - val_loss: 0.2241 - val_mean_squared_error: 0.2241\n",
      "Epoch 82/100\n",
      "1008/1008 [==============================] - 3s 3ms/step - loss: 0.2688 - mean_squared_error: 0.2688 - val_loss: 0.2241 - val_mean_squared_error: 0.2241\n",
      "Epoch 83/100\n",
      "1008/1008 [==============================] - 3s 3ms/step - loss: 0.2688 - mean_squared_error: 0.2688 - val_loss: 0.2241 - val_mean_squared_error: 0.2241\n",
      "Epoch 84/100\n",
      "1008/1008 [==============================] - 3s 3ms/step - loss: 0.2688 - mean_squared_error: 0.2688 - val_loss: 0.2241 - val_mean_squared_error: 0.2241\n",
      "Epoch 85/100\n",
      "1008/1008 [==============================] - 3s 3ms/step - loss: 0.2688 - mean_squared_error: 0.2688 - val_loss: 0.2241 - val_mean_squared_error: 0.2241\n",
      "Epoch 86/100\n",
      "1008/1008 [==============================] - 3s 3ms/step - loss: 0.2688 - mean_squared_error: 0.2688 - val_loss: 0.2241 - val_mean_squared_error: 0.2241\n",
      "Epoch 87/100\n",
      "1008/1008 [==============================] - 3s 3ms/step - loss: 0.2688 - mean_squared_error: 0.2688 - val_loss: 0.2241 - val_mean_squared_error: 0.2241\n",
      "Epoch 88/100\n",
      "1008/1008 [==============================] - 3s 3ms/step - loss: 0.2688 - mean_squared_error: 0.2688 - val_loss: 0.2241 - val_mean_squared_error: 0.2241\n",
      "Epoch 89/100\n",
      "1008/1008 [==============================] - 3s 3ms/step - loss: 0.2688 - mean_squared_error: 0.2688 - val_loss: 0.2241 - val_mean_squared_error: 0.2241\n",
      "Epoch 90/100\n",
      "1008/1008 [==============================] - 3s 3ms/step - loss: 0.2688 - mean_squared_error: 0.2688 - val_loss: 0.2241 - val_mean_squared_error: 0.2241\n",
      "Epoch 91/100\n",
      "1008/1008 [==============================] - 3s 3ms/step - loss: 0.2688 - mean_squared_error: 0.2688 - val_loss: 0.2241 - val_mean_squared_error: 0.2241\n",
      "Epoch 92/100\n",
      "1008/1008 [==============================] - 3s 3ms/step - loss: 0.2688 - mean_squared_error: 0.2688 - val_loss: 0.2241 - val_mean_squared_error: 0.2241\n",
      "Epoch 93/100\n",
      "1008/1008 [==============================] - 3s 3ms/step - loss: 0.2688 - mean_squared_error: 0.2688 - val_loss: 0.2241 - val_mean_squared_error: 0.2241\n",
      "Epoch 94/100\n",
      "1008/1008 [==============================] - 3s 3ms/step - loss: 0.2688 - mean_squared_error: 0.2688 - val_loss: 0.2241 - val_mean_squared_error: 0.2241\n",
      "Epoch 95/100\n",
      "1008/1008 [==============================] - 3s 3ms/step - loss: 0.2688 - mean_squared_error: 0.2688 - val_loss: 0.2241 - val_mean_squared_error: 0.2241\n",
      "Epoch 96/100\n",
      "1008/1008 [==============================] - 3s 3ms/step - loss: 0.2688 - mean_squared_error: 0.2688 - val_loss: 0.2241 - val_mean_squared_error: 0.2241\n",
      "Epoch 97/100\n",
      "1008/1008 [==============================] - 3s 3ms/step - loss: 0.2688 - mean_squared_error: 0.2688 - val_loss: 0.2241 - val_mean_squared_error: 0.2241\n",
      "Epoch 98/100\n",
      "1008/1008 [==============================] - 3s 3ms/step - loss: 0.2688 - mean_squared_error: 0.2688 - val_loss: 0.2241 - val_mean_squared_error: 0.2241\n",
      "Epoch 99/100\n"
     ]
    },
    {
     "name": "stdout",
     "output_type": "stream",
     "text": [
      "1008/1008 [==============================] - 3s 3ms/step - loss: 0.2688 - mean_squared_error: 0.2688 - val_loss: 0.2241 - val_mean_squared_error: 0.2241\n",
      "Epoch 100/100\n",
      "1008/1008 [==============================] - 3s 3ms/step - loss: 0.2688 - mean_squared_error: 0.2688 - val_loss: 0.2241 - val_mean_squared_error: 0.2241\n"
     ]
    }
   ],
   "source": [
    "history = model.fit(X,Y, validation_split=0.33, epochs =100, batch_size=10)"
   ]
  },
  {
   "cell_type": "markdown",
   "id": "616df70c",
   "metadata": {},
   "source": [
    "#### Evaluate the model"
   ]
  },
  {
   "cell_type": "code",
   "execution_count": 17,
   "id": "dc506d1e",
   "metadata": {},
   "outputs": [
    {
     "name": "stdout",
     "output_type": "stream",
     "text": [
      "470/470 [==============================] - 1s 2ms/step - loss: 0.2541 - mean_squared_error: 0.2541\n",
      "mean_squared_error: 25.41%\n"
     ]
    }
   ],
   "source": [
    "scores = model.evaluate(X,Y)\n",
    "print('%s: %.2f%%' % (model.metrics_names[1], scores[1]*100))"
   ]
  },
  {
   "cell_type": "markdown",
   "id": "984630b8",
   "metadata": {},
   "source": [
    "####  Tuning of Hyperparameter --  Batch size and epochs"
   ]
  },
  {
   "cell_type": "code",
   "execution_count": 18,
   "id": "77a97e49",
   "metadata": {},
   "outputs": [],
   "source": [
    "# Create model\n",
    "\n",
    "def create_model():\n",
    "    model = Sequential()\n",
    "    model.add(Dense(12, input_dim= 10, kernel_initializer= 'uniform', activation= 'relu'))\n",
    "    model.add(Dense(8, kernel_initializer= 'uniform', activation= 'relu'))\n",
    "    model.add(Dense(1, kernel_initializer= 'uniform', activation='relu')) \n",
    "    \n",
    "    adam = Adam(lr =0.01)\n",
    "    \n",
    "    model.compile(loss= 'mse', optimizer= adam, metrics= [keras.metrics.MeanSquaredError()])  \n",
    "    return model"
   ]
  },
  {
   "cell_type": "code",
   "execution_count": 19,
   "id": "4e0c031c",
   "metadata": {},
   "outputs": [
    {
     "name": "stdout",
     "output_type": "stream",
     "text": [
      "Fitting 5 folds for each of 9 candidates, totalling 45 fits\n",
      "[CV 1/5; 1/9] START batch_size=10, epochs=10....................................\n",
      "[CV 1/5; 1/9] END ....batch_size=10, epochs=10;, score=-0.001 total time=  22.9s\n",
      "[CV 2/5; 1/9] START batch_size=10, epochs=10....................................\n",
      "[CV 2/5; 1/9] END ....batch_size=10, epochs=10;, score=-0.000 total time=  22.1s\n",
      "[CV 3/5; 1/9] START batch_size=10, epochs=10....................................\n",
      "[CV 3/5; 1/9] END ....batch_size=10, epochs=10;, score=-0.000 total time=  22.1s\n",
      "[CV 4/5; 1/9] START batch_size=10, epochs=10....................................\n",
      "[CV 4/5; 1/9] END ....batch_size=10, epochs=10;, score=-0.000 total time=  21.8s\n",
      "[CV 5/5; 1/9] START batch_size=10, epochs=10....................................\n",
      "[CV 5/5; 1/9] END ....batch_size=10, epochs=10;, score=-0.000 total time=  22.8s\n",
      "[CV 1/5; 2/9] START batch_size=10, epochs=50....................................\n",
      "[CV 1/5; 2/9] END ....batch_size=10, epochs=50;, score=-0.291 total time= 1.7min\n",
      "[CV 2/5; 2/9] START batch_size=10, epochs=50....................................\n",
      "[CV 2/5; 2/9] END ....batch_size=10, epochs=50;, score=-0.178 total time= 1.8min\n",
      "[CV 3/5; 2/9] START batch_size=10, epochs=50....................................\n",
      "[CV 3/5; 2/9] END ....batch_size=10, epochs=50;, score=-0.000 total time= 1.8min\n",
      "[CV 4/5; 2/9] START batch_size=10, epochs=50....................................\n",
      "[CV 4/5; 2/9] END ....batch_size=10, epochs=50;, score=-0.000 total time= 1.8min\n",
      "[CV 5/5; 2/9] START batch_size=10, epochs=50....................................\n",
      "[CV 5/5; 2/9] END ....batch_size=10, epochs=50;, score=-0.000 total time= 1.8min\n",
      "[CV 1/5; 3/9] START batch_size=10, epochs=100...................................\n",
      "[CV 1/5; 3/9] END ...batch_size=10, epochs=100;, score=-0.000 total time= 3.6min\n",
      "[CV 2/5; 3/9] START batch_size=10, epochs=100...................................\n",
      "[CV 2/5; 3/9] END ...batch_size=10, epochs=100;, score=-0.000 total time= 4.1min\n",
      "[CV 3/5; 3/9] START batch_size=10, epochs=100...................................\n",
      "[CV 3/5; 3/9] END ...batch_size=10, epochs=100;, score=-0.000 total time= 4.0min\n",
      "[CV 4/5; 3/9] START batch_size=10, epochs=100...................................\n",
      "[CV 4/5; 3/9] END ...batch_size=10, epochs=100;, score=-0.000 total time= 4.1min\n",
      "[CV 5/5; 3/9] START batch_size=10, epochs=100...................................\n",
      "[CV 5/5; 3/9] END ...batch_size=10, epochs=100;, score=-0.221 total time= 4.1min\n",
      "[CV 1/5; 4/9] START batch_size=20, epochs=10....................................\n",
      "[CV 1/5; 4/9] END ....batch_size=20, epochs=10;, score=-0.000 total time=  13.7s\n",
      "[CV 2/5; 4/9] START batch_size=20, epochs=10....................................\n",
      "[CV 2/5; 4/9] END ....batch_size=20, epochs=10;, score=-0.000 total time=  13.5s\n",
      "[CV 3/5; 4/9] START batch_size=20, epochs=10....................................\n",
      "[CV 3/5; 4/9] END ....batch_size=20, epochs=10;, score=-0.000 total time=  13.5s\n",
      "[CV 4/5; 4/9] START batch_size=20, epochs=10....................................\n",
      "[CV 4/5; 4/9] END ....batch_size=20, epochs=10;, score=-0.000 total time=  13.7s\n",
      "[CV 5/5; 4/9] START batch_size=20, epochs=10....................................\n",
      "[CV 5/5; 4/9] END ....batch_size=20, epochs=10;, score=-0.000 total time=  13.3s\n",
      "[CV 1/5; 5/9] START batch_size=20, epochs=50....................................\n",
      "[CV 1/5; 5/9] END ....batch_size=20, epochs=50;, score=-0.000 total time= 1.0min\n",
      "[CV 2/5; 5/9] START batch_size=20, epochs=50....................................\n",
      "[CV 2/5; 5/9] END ....batch_size=20, epochs=50;, score=-0.000 total time= 1.0min\n",
      "[CV 3/5; 5/9] START batch_size=20, epochs=50....................................\n",
      "[CV 3/5; 5/9] END ....batch_size=20, epochs=50;, score=-0.000 total time= 1.0min\n",
      "[CV 4/5; 5/9] START batch_size=20, epochs=50....................................\n",
      "[CV 4/5; 5/9] END ....batch_size=20, epochs=50;, score=-0.000 total time= 1.0min\n",
      "[CV 5/5; 5/9] START batch_size=20, epochs=50....................................\n",
      "[CV 5/5; 5/9] END ....batch_size=20, epochs=50;, score=-0.000 total time= 1.0min\n",
      "[CV 1/5; 6/9] START batch_size=20, epochs=100...................................\n",
      "[CV 1/5; 6/9] END ...batch_size=20, epochs=100;, score=-0.000 total time= 2.0min\n",
      "[CV 2/5; 6/9] START batch_size=20, epochs=100...................................\n",
      "[CV 2/5; 6/9] END ...batch_size=20, epochs=100;, score=-0.178 total time= 2.0min\n",
      "[CV 3/5; 6/9] START batch_size=20, epochs=100...................................\n",
      "[CV 3/5; 6/9] END ...batch_size=20, epochs=100;, score=-0.317 total time= 2.0min\n",
      "[CV 4/5; 6/9] START batch_size=20, epochs=100...................................\n",
      "[CV 4/5; 6/9] END ...batch_size=20, epochs=100;, score=-0.000 total time= 2.0min\n",
      "[CV 5/5; 6/9] START batch_size=20, epochs=100...................................\n",
      "[CV 5/5; 6/9] END ...batch_size=20, epochs=100;, score=-0.000 total time= 2.0min\n",
      "[CV 1/5; 7/9] START batch_size=40, epochs=10....................................\n",
      "[CV 1/5; 7/9] END ....batch_size=40, epochs=10;, score=-0.000 total time=   7.1s\n",
      "[CV 2/5; 7/9] START batch_size=40, epochs=10....................................\n",
      "[CV 2/5; 7/9] END ....batch_size=40, epochs=10;, score=-0.000 total time=   6.6s\n",
      "[CV 3/5; 7/9] START batch_size=40, epochs=10....................................\n",
      "[CV 3/5; 7/9] END ....batch_size=40, epochs=10;, score=-0.317 total time=   6.2s\n",
      "[CV 4/5; 7/9] START batch_size=40, epochs=10....................................\n",
      "[CV 4/5; 7/9] END ....batch_size=40, epochs=10;, score=-0.264 total time=   6.7s\n",
      "[CV 5/5; 7/9] START batch_size=40, epochs=10....................................\n",
      "[CV 5/5; 7/9] END ....batch_size=40, epochs=10;, score=-0.000 total time=   6.2s\n",
      "[CV 1/5; 8/9] START batch_size=40, epochs=50....................................\n",
      "[CV 1/5; 8/9] END ....batch_size=40, epochs=50;, score=-0.000 total time=  27.4s\n",
      "[CV 2/5; 8/9] START batch_size=40, epochs=50....................................\n",
      "[CV 2/5; 8/9] END ....batch_size=40, epochs=50;, score=-0.178 total time=  26.5s\n",
      "[CV 3/5; 8/9] START batch_size=40, epochs=50....................................\n",
      "[CV 3/5; 8/9] END ....batch_size=40, epochs=50;, score=-0.000 total time=  27.0s\n",
      "[CV 4/5; 8/9] START batch_size=40, epochs=50....................................\n",
      "[CV 4/5; 8/9] END ....batch_size=40, epochs=50;, score=-0.000 total time=  26.9s\n",
      "[CV 5/5; 8/9] START batch_size=40, epochs=50....................................\n",
      "[CV 5/5; 8/9] END ....batch_size=40, epochs=50;, score=-0.221 total time=  27.0s\n",
      "[CV 1/5; 9/9] START batch_size=40, epochs=100...................................\n",
      "[CV 1/5; 9/9] END ...batch_size=40, epochs=100;, score=-0.000 total time=  53.5s\n",
      "[CV 2/5; 9/9] START batch_size=40, epochs=100...................................\n",
      "[CV 2/5; 9/9] END ...batch_size=40, epochs=100;, score=-0.000 total time=  52.9s\n",
      "[CV 3/5; 9/9] START batch_size=40, epochs=100...................................\n",
      "[CV 3/5; 9/9] END ...batch_size=40, epochs=100;, score=-0.000 total time=  53.5s\n",
      "[CV 4/5; 9/9] START batch_size=40, epochs=100...................................\n",
      "[CV 4/5; 9/9] END ...batch_size=40, epochs=100;, score=-0.000 total time=  52.5s\n",
      "[CV 5/5; 9/9] START batch_size=40, epochs=100...................................\n",
      "[CV 5/5; 9/9] END ...batch_size=40, epochs=100;, score=-0.000 total time=  54.9s\n"
     ]
    }
   ],
   "source": [
    "# Create the model\n",
    "model= KerasRegressor(build_fn = create_model, verbose = 0)   # the Y variable is a continuous data type where you've to apply the keras regressor model to it\n",
    "\n",
    "# Define the grid search parameters\n",
    "batch_size = [10,20,40]\n",
    "epochs = [10,50,100]\n",
    "\n",
    "# Make a dicitionary of the grid search parameters\n",
    "param_grid = dict(batch_size = batch_size, epochs = epochs)\n",
    "\n",
    "# Build and fit the GridSearchCV\n",
    "grid = GridSearchCV(estimator = model, param_grid = param_grid, cv = KFold(), verbose = 10)\n",
    "grid_result = grid.fit(X,Y)"
   ]
  },
  {
   "cell_type": "code",
   "execution_count": 20,
   "id": "8d37a6b3",
   "metadata": {},
   "outputs": [
    {
     "name": "stdout",
     "output_type": "stream",
     "text": [
      "Best :-0.00013898716424591838, using {'batch_size': 20, 'epochs': 50}\n",
      "-0.00033351727615809067,0.0002744224023318647 with:{'batch_size': 10, 'epochs': 10}\n",
      "-0.09378231167502235,0.12013293668444004 with:{'batch_size': 10, 'epochs': 50}\n",
      "-0.044447980714903676,0.08848300177413675 with:{'batch_size': 10, 'epochs': 100}\n",
      "-0.00018313285399926827,7.170122793053707e-05 with:{'batch_size': 20, 'epochs': 10}\n",
      "-0.00013898716424591838,4.7968910802465585e-05 with:{'batch_size': 20, 'epochs': 50}\n",
      "-0.0989730574467103,0.12878933645262783 with:{'batch_size': 20, 'epochs': 100}\n",
      "-0.1162575913942419,0.14299669726583203 with:{'batch_size': 40, 'epochs': 10}\n",
      "-0.07990044726175256,0.09869021167742462 with:{'batch_size': 40, 'epochs': 50}\n",
      "-0.00016553495079278945,7.737896672900084e-05 with:{'batch_size': 40, 'epochs': 100}\n"
     ]
    }
   ],
   "source": [
    "# Summarize the results\n",
    "\n",
    "print('Best :{}, using {}'. format(grid_result.best_score_, grid_result.best_params_))\n",
    "means = grid_result.cv_results_['mean_test_score']\n",
    "stds = grid_result.cv_results_['std_test_score']\n",
    "params = grid_result.cv_results_['params']\n",
    "for mean, stdev, param in zip(means, stds, params):\n",
    "    print('{},{} with:{}'. format(mean, stdev, param))"
   ]
  },
  {
   "cell_type": "code",
   "execution_count": null,
   "id": "219e8c02",
   "metadata": {},
   "outputs": [],
   "source": []
  },
  {
   "cell_type": "code",
   "execution_count": null,
   "id": "85dbb16d",
   "metadata": {},
   "outputs": [],
   "source": []
  },
  {
   "cell_type": "code",
   "execution_count": null,
   "id": "cc98dcd7",
   "metadata": {},
   "outputs": [],
   "source": []
  },
  {
   "cell_type": "code",
   "execution_count": null,
   "id": "ab71fa03",
   "metadata": {},
   "outputs": [],
   "source": []
  },
  {
   "cell_type": "code",
   "execution_count": null,
   "id": "fbde1194",
   "metadata": {},
   "outputs": [],
   "source": []
  },
  {
   "cell_type": "code",
   "execution_count": null,
   "id": "70e78478",
   "metadata": {},
   "outputs": [],
   "source": []
  },
  {
   "cell_type": "code",
   "execution_count": null,
   "id": "7b630bf0",
   "metadata": {},
   "outputs": [],
   "source": []
  },
  {
   "cell_type": "code",
   "execution_count": null,
   "id": "7cb8f2df",
   "metadata": {},
   "outputs": [],
   "source": []
  },
  {
   "cell_type": "code",
   "execution_count": null,
   "id": "fa85fa89",
   "metadata": {},
   "outputs": [],
   "source": []
  }
 ],
 "metadata": {
  "kernelspec": {
   "display_name": "Python 3 (ipykernel)",
   "language": "python",
   "name": "python3"
  },
  "language_info": {
   "codemirror_mode": {
    "name": "ipython",
    "version": 3
   },
   "file_extension": ".py",
   "mimetype": "text/x-python",
   "name": "python",
   "nbconvert_exporter": "python",
   "pygments_lexer": "ipython3",
   "version": "3.9.7"
  }
 },
 "nbformat": 4,
 "nbformat_minor": 5
}
