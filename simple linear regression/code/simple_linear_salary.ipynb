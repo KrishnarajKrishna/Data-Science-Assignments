{
 "cells": [
  {
   "cell_type": "markdown",
   "id": "fe4ddef9",
   "metadata": {},
   "source": [
    "## ii) Salary Data"
   ]
  },
  {
   "cell_type": "markdown",
   "id": "b580ede6",
   "metadata": {},
   "source": [
    "### 1 . Import Necessary Libraries"
   ]
  },
  {
   "cell_type": "code",
   "execution_count": 1,
   "id": "b151511c",
   "metadata": {},
   "outputs": [],
   "source": [
    "import pandas as pd\n",
    "import numpy as np\n",
    "import seaborn as sns\n",
    "from matplotlib import pyplot as plt\n",
    "\n",
    "import statsmodels.formula.api as smf\n",
    "import warnings\n",
    "warnings.filterwarnings('ignore')"
   ]
  },
  {
   "cell_type": "markdown",
   "id": "d8b9a919",
   "metadata": {},
   "source": [
    "### 2. Import  Data"
   ]
  },
  {
   "cell_type": "code",
   "execution_count": 2,
   "id": "8ced26ca",
   "metadata": {},
   "outputs": [
    {
     "ename": "SyntaxError",
     "evalue": "invalid syntax (Temp/ipykernel_7152/1049097664.py, line 1)",
     "output_type": "error",
     "traceback": [
      "\u001b[1;36m  File \u001b[1;32m\"C:\\Users\\aravind\\AppData\\Local\\Temp/ipykernel_7152/1049097664.py\"\u001b[1;36m, line \u001b[1;32m1\u001b[0m\n\u001b[1;33m    `salary=pd.read_csv('Salary_Data.csv')\u001b[0m\n\u001b[1;37m    ^\u001b[0m\n\u001b[1;31mSyntaxError\u001b[0m\u001b[1;31m:\u001b[0m invalid syntax\n"
     ]
    }
   ],
   "source": [
    "`salary=pd.read_csv('Salary_Data.csv')\n",
    "salary"
   ]
  },
  {
   "cell_type": "markdown",
   "id": "cb2ad592",
   "metadata": {},
   "source": [
    "### 3. Data Understanding"
   ]
  },
  {
   "cell_type": "code",
   "execution_count": null,
   "id": "5c16b852",
   "metadata": {},
   "outputs": [],
   "source": [
    "salary.dtypes"
   ]
  },
  {
   "cell_type": "code",
   "execution_count": null,
   "id": "201ebe60",
   "metadata": {},
   "outputs": [],
   "source": [
    "salary.info()"
   ]
  },
  {
   "cell_type": "code",
   "execution_count": null,
   "id": "d635b8df",
   "metadata": {},
   "outputs": [],
   "source": [
    "sns.distplot(salary['Salary'],hist=False)\n",
    "plt.show()"
   ]
  },
  {
   "cell_type": "code",
   "execution_count": null,
   "id": "8790a780",
   "metadata": {},
   "outputs": [],
   "source": [
    "sns.distplot(salary['YearsExperience'],hist=False)\n",
    "plt.show()"
   ]
  },
  {
   "cell_type": "code",
   "execution_count": null,
   "id": "4860ebc5",
   "metadata": {},
   "outputs": [],
   "source": [
    "salary1=salary.rename({'YearsExperience':'years_experience','Salary':'salary'},axis=1)\n",
    "salary1"
   ]
  },
  {
   "cell_type": "code",
   "execution_count": null,
   "id": "496a8bfc",
   "metadata": {},
   "outputs": [],
   "source": [
    "salary1.corr()"
   ]
  },
  {
   "cell_type": "code",
   "execution_count": null,
   "id": "50b62891",
   "metadata": {},
   "outputs": [],
   "source": [
    "sns.regplot(x=\"years_experience\",y=\"salary\",data=salary1)\n",
    "plt.show()"
   ]
  },
  {
   "cell_type": "markdown",
   "id": "1a228284",
   "metadata": {},
   "source": [
    "### 4 . Model Building"
   ]
  },
  {
   "cell_type": "code",
   "execution_count": null,
   "id": "4d000103",
   "metadata": {},
   "outputs": [],
   "source": [
    "smf.ols(\"salary~years_experience\",data=salary1)"
   ]
  },
  {
   "cell_type": "markdown",
   "id": "f20c9362",
   "metadata": {},
   "source": [
    "### 5. Model Training"
   ]
  },
  {
   "cell_type": "code",
   "execution_count": null,
   "id": "71a3125c",
   "metadata": {},
   "outputs": [],
   "source": [
    "model1=smf.ols(\"salary~years_experience\",data=salary1).fit()"
   ]
  },
  {
   "cell_type": "code",
   "execution_count": null,
   "id": "c2ad7858",
   "metadata": {},
   "outputs": [],
   "source": [
    "model1.params"
   ]
  },
  {
   "cell_type": "code",
   "execution_count": null,
   "id": "d0c31078",
   "metadata": {},
   "outputs": [],
   "source": [
    "model1.tvalues,model1.pvalues"
   ]
  },
  {
   "cell_type": "code",
   "execution_count": null,
   "id": "d3582b92",
   "metadata": {},
   "outputs": [],
   "source": [
    "model1.rsquared,model1.rsquared_adj"
   ]
  },
  {
   "cell_type": "markdown",
   "id": "e9d93590",
   "metadata": {},
   "source": [
    "### 6. Model Prediction"
   ]
  },
  {
   "cell_type": "code",
   "execution_count": null,
   "id": "382afbac",
   "metadata": {},
   "outputs": [],
   "source": [
    "# Manual Prediction say for 3years Experience\n",
    "salary=(25792.200199)+(9449.962321)*(3)\n",
    "salary"
   ]
  },
  {
   "cell_type": "code",
   "execution_count": null,
   "id": "ac9a663e",
   "metadata": {},
   "outputs": [],
   "source": [
    "new_data=pd.Series([5,7])\n",
    "new_data"
   ]
  },
  {
   "cell_type": "code",
   "execution_count": null,
   "id": "7ba42453",
   "metadata": {},
   "outputs": [],
   "source": [
    "data_pred=pd.DataFrame(new_data,columns=['years_experience'])\n",
    "data_pred"
   ]
  },
  {
   "cell_type": "code",
   "execution_count": null,
   "id": "2b8094d9",
   "metadata": {},
   "outputs": [],
   "source": [
    "model1.predict(data_pred)"
   ]
  },
  {
   "cell_type": "code",
   "execution_count": null,
   "id": "d92d8912",
   "metadata": {},
   "outputs": [],
   "source": []
  }
 ],
 "metadata": {
  "kernelspec": {
   "display_name": "Python 3 (ipykernel)",
   "language": "python",
   "name": "python3"
  },
  "language_info": {
   "codemirror_mode": {
    "name": "ipython",
    "version": 3
   },
   "file_extension": ".py",
   "mimetype": "text/x-python",
   "name": "python",
   "nbconvert_exporter": "python",
   "pygments_lexer": "ipython3",
   "version": "3.9.7"
  }
 },
 "nbformat": 4,
 "nbformat_minor": 5
}
