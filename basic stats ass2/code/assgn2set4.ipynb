{
 "cells": [
  {
   "cell_type": "code",
   "execution_count": 1,
   "id": "6c52d1fb",
   "metadata": {},
   "outputs": [],
   "source": [
    "import pandas as pd \n",
    "import numpy as np\n",
    "import scipy.stats as stats"
   ]
  },
  {
   "cell_type": "markdown",
   "id": "8a145eca",
   "metadata": {},
   "source": [
    "### Q3"
   ]
  },
  {
   "cell_type": "code",
   "execution_count": 2,
   "id": "cb570d96",
   "metadata": {},
   "outputs": [
    {
     "name": "stdout",
     "output_type": "stream",
     "text": [
      "The probability of ,there will be an investigation in any given week is 21.4 %\n"
     ]
    }
   ],
   "source": [
    "mean= 50\n",
    "std = 40\n",
    "n =100\n",
    "d_freedom= 100-1\n",
    "# we go for t_distribution as population standard deviation is unknown.\n",
    "t_fortyfive=(45-50)/(40/np.sqrt(100))\n",
    "t_fiftyfive=(55-50)/(40/np.sqrt(100))\n",
    "\n",
    "\n",
    "fortyfive = stats.t.cdf(t_fortyfive, df = d_freedom)\n",
    "\n",
    "fiftyfive = stats.t.cdf(t_fiftyfive, d_freedom)\n",
    "\n",
    "prob = fiftyfive - fortyfive\n",
    "\n",
    "np.round(stats.t.interval(alpha = prob, df = d_freedom, loc = mean, scale = std/np.sqrt(n)),)\n",
    "\n",
    "print('The probability of ,there will be an investigation in any given week is',np.round((1-prob)*100,1),'%')\n"
   ]
  },
  {
   "cell_type": "markdown",
   "id": "7c556c15",
   "metadata": {},
   "source": [
    "### Q4"
   ]
  },
  {
   "cell_type": "code",
   "execution_count": 3,
   "id": "4a0d267a",
   "metadata": {},
   "outputs": [
    {
     "name": "stdout",
     "output_type": "stream",
     "text": [
      "To maintain the probability of investigation to 5%, they should sample 248.0 transactions if they do not want to change the thresholds of 45 to 55\n",
      "248.3776 247.3776\n"
     ]
    },
    {
     "data": {
      "text/plain": [
       "array([45., 55.])"
      ]
     },
     "execution_count": 3,
     "metadata": {},
     "output_type": "execute_result"
    }
   ],
   "source": [
    "x_bar = 45\n",
    "s_std = 40\n",
    "u = 50\n",
    "\n",
    "t = np.round(stats.t.ppf(0.025, df = 249),2)\n",
    "t\n",
    "n = ((s_std*abs(t)) / (5))**2\n",
    "\n",
    "print('To maintain the probability of investigation to 5%, they should sample',np.round(n,),'transactions if they do not want to change the thresholds of 45 to 55')\n",
    "\n",
    "df= n-1\n",
    "print(n, df)\n",
    "\n",
    "np.round(stats.t.interval(alpha = 0.95, df = df, loc = u, scale = s_std/np.sqrt(n)),)"
   ]
  },
  {
   "cell_type": "code",
   "execution_count": null,
   "id": "07bdf311",
   "metadata": {},
   "outputs": [],
   "source": []
  },
  {
   "cell_type": "code",
   "execution_count": null,
   "id": "5710d579",
   "metadata": {},
   "outputs": [],
   "source": []
  },
  {
   "cell_type": "code",
   "execution_count": null,
   "id": "fd702095",
   "metadata": {},
   "outputs": [],
   "source": []
  },
  {
   "cell_type": "code",
   "execution_count": null,
   "id": "024a48f6",
   "metadata": {},
   "outputs": [],
   "source": []
  },
  {
   "cell_type": "code",
   "execution_count": null,
   "id": "d8def047",
   "metadata": {},
   "outputs": [],
   "source": []
  }
 ],
 "metadata": {
  "kernelspec": {
   "display_name": "Python 3 (ipykernel)",
   "language": "python",
   "name": "python3"
  },
  "language_info": {
   "codemirror_mode": {
    "name": "ipython",
    "version": 3
   },
   "file_extension": ".py",
   "mimetype": "text/x-python",
   "name": "python",
   "nbconvert_exporter": "python",
   "pygments_lexer": "ipython3",
   "version": "3.9.12"
  }
 },
 "nbformat": 4,
 "nbformat_minor": 5
}
