{
 "cells": [
  {
   "cell_type": "code",
   "execution_count": 1,
   "id": "ddd091e8",
   "metadata": {},
   "outputs": [],
   "source": [
    "import pandas as pd\n",
    "import numpy as np\n",
    "import matplotlib.pyplot as plt\n",
    "import seaborn as sns\n",
    "import scipy.stats as stats"
   ]
  },
  {
   "cell_type": "markdown",
   "id": "289f3082",
   "metadata": {},
   "source": [
    "### Q1\n"
   ]
  },
  {
   "cell_type": "code",
   "execution_count": 2,
   "id": "942924e6",
   "metadata": {},
   "outputs": [
    {
     "name": "stdout",
     "output_type": "stream",
     "text": [
      "The probability that the service manager cannot meet his committment is  0.26599\n"
     ]
    }
   ],
   "source": [
    "u =55\n",
    "std= 8\n",
    "q1= stats.norm.sf(60,loc=u,scale=std)\n",
    "print(\"The probability that the service manager cannot meet his committment is \" , np.round(q1,5))"
   ]
  },
  {
   "cell_type": "code",
   "execution_count": null,
   "id": "40212a88",
   "metadata": {},
   "outputs": [],
   "source": []
  },
  {
   "cell_type": "markdown",
   "id": "5305261b",
   "metadata": {},
   "source": [
    "### Q2"
   ]
  },
  {
   "cell_type": "code",
   "execution_count": 3,
   "id": "fae2bfa4",
   "metadata": {},
   "outputs": [
    {
     "name": "stdout",
     "output_type": "stream",
     "text": [
      "The probability of employee age betweeen 38 and 44 is 34.13 %\n",
      "The probability of employee age more than 44 is :  15.87 %\n",
      "Answer: False\n",
      "A training program for employees under the age of 30 at the center would be expected to attract about:  36.0 employees\n"
     ]
    }
   ],
   "source": [
    "mean=38\n",
    "std1= 6\n",
    "q2_lessthan38= stats.norm.cdf(38,loc=mean,scale=std1)\n",
    "q2_lessthan44= stats.norm.cdf(44,loc=mean,scale=std1)\n",
    "q2_between38and44=(q2_lessthan44-q2_lessthan38)\n",
    "print('The probability of employee age betweeen 38 and 44 is',np.round(q2_between38and44*100,2),'%') \n",
    "\n",
    "q2_morethan44 = 1-stats.norm.cdf(44, loc = mean, scale = std1)\n",
    "print('The probability of employee age more than 44 is : ',np.round(q2_morethan44*100,2),'%')\n",
    "true_or_false = (q2_morethan44 > q2_between38and44)\n",
    "print('Answer:',true_or_false)\n",
    "\n",
    "q2 = stats.norm.cdf(30, loc = mean, scale = std1)\n",
    "print(\"A training program for employees under the age of 30 at the center would be expected to attract about: \"\n",
    "      ,np.round((q2*400),0),'employees')"
   ]
  },
  {
   "cell_type": "code",
   "execution_count": null,
   "id": "c7e19aca",
   "metadata": {},
   "outputs": [],
   "source": []
  },
  {
   "cell_type": "markdown",
   "id": "b8c66d55",
   "metadata": {},
   "source": [
    "### Q 4"
   ]
  },
  {
   "cell_type": "code",
   "execution_count": 4,
   "id": "b7e9051e",
   "metadata": {},
   "outputs": [
    {
     "name": "stdout",
     "output_type": "stream",
     "text": [
      "The two values of a and b, symmetric about the mean,(such that the probability of the random variable taking a value between them is 0.99)  48.5 151.5\n"
     ]
    }
   ],
   "source": [
    "# Given\n",
    "u = 100\n",
    "std = 20\n",
    "\n",
    "# Z value for .005 percentiles \n",
    "z_005= np.round(stats.norm.ppf(0.005),4)\n",
    "z_005\n",
    "\n",
    "# Z value for .99 percentiles \n",
    "z_99 = np.round(stats.norm.ppf(0.995),4)\n",
    "z_99\n",
    "\n",
    "#z = (x_bar - mew) / std\n",
    "#x_bar = (z*std) + mew\n",
    "a = np.round((z_005*std) + u,1)\n",
    "b = np.round((z_99*std) + u,1)\n",
    "print(\"The two values of a and b, symmetric about the mean,(such that the probability of the random variable taking a value between them is 0.99) \",a,b)\n"
   ]
  },
  {
   "cell_type": "code",
   "execution_count": null,
   "id": "9abab81d",
   "metadata": {},
   "outputs": [],
   "source": []
  },
  {
   "cell_type": "markdown",
   "id": "2937abec",
   "metadata": {},
   "source": [
    "### Q5"
   ]
  },
  {
   "cell_type": "code",
   "execution_count": 5,
   "id": "d5005d42",
   "metadata": {},
   "outputs": [
    {
     "name": "stdout",
     "output_type": "stream",
     "text": [
      "The Mean Profit of both division: 12 Million$\n",
      "The Mean Profit of both division: 54.0 Crore Rupees\n",
      "The Standard Deviation of both division: 5.0 Million$\n",
      "The Standard Deviation of both division: 22.5 Crore Rupees\n"
     ]
    }
   ],
   "source": [
    "mean1 = 5\n",
    "mean2 = 7\n",
    "Mean = (mean1+mean2)\n",
    "print('The Mean Profit of both division:',Mean, 'Million$')\n",
    "print('The Mean Profit of both division:',(Mean*45)/10, 'Crore Rupees')\n",
    "\n",
    "# Combine standard Deviation = (Std1^2 + Std2^2)^1/2\n",
    "std1 = 3**2\n",
    "std2 = 4**2\n",
    "Std = np.sqrt(std1 + std2)\n",
    "print('The Standard Deviation of both division:', Std, 'Million$')\n",
    "print('The Standard Deviation of both division:', (Std*45)/10, 'Crore Rupees')"
   ]
  },
  {
   "cell_type": "code",
   "execution_count": 6,
   "id": "c6990f7e",
   "metadata": {},
   "outputs": [],
   "source": [
    "#A. Specify a Rupee range (centered on the mean) such that it contains 95% probability for the annual profit of the company."
   ]
  },
  {
   "cell_type": "code",
   "execution_count": 7,
   "id": "668fbf43",
   "metadata": {},
   "outputs": [
    {
     "name": "stdout",
     "output_type": "stream",
     "text": [
      "Rupee Ranges from 2.2 to 21.8 Million$ in Annual profit of the Company 95% of the time\n",
      "Rupee Ranges from 9.900000000000002 to 98.1 Crore Rupees in Annual profit of the Company 95% of time\n"
     ]
    }
   ],
   "source": [
    "r1, r2 = np.round(stats.norm.interval(0.95, Mean, Std),2)\n",
    "print('Rupee Ranges from',r1,'to',r2,'Million$ in Annual profit of the Company 95% of the time')\n",
    "print('Rupee Ranges from',np.divide(np.multiply(r1,45),10),'to',np.divide(np.multiply(r2,45),10),'Crore Rupees in Annual profit of the Company 95% of time')"
   ]
  },
  {
   "cell_type": "code",
   "execution_count": 8,
   "id": "495b4551",
   "metadata": {},
   "outputs": [],
   "source": [
    "#B. Specify the 5th percentile of profit (in Rupees) for the company"
   ]
  },
  {
   "cell_type": "code",
   "execution_count": 9,
   "id": "18a48926",
   "metadata": {},
   "outputs": [
    {
     "name": "stdout",
     "output_type": "stream",
     "text": [
      "The 5th percentile of Profit for the company is 3.78 Million$\n",
      "The 5th percentile of Profit for the company is 17.0 Crore Rupees\n"
     ]
    }
   ],
   "source": [
    "\n",
    "# Z value  = X_bar - Mew / Std pop \n",
    "# for percentile, X_percentile = (Zvalue * Std pop) + Mew\n",
    "Z_05 = stats.norm.ppf(0.05)\n",
    "Fifth_percentile = (Z_05 * Std) + Mean\n",
    "print('The 5th percentile of Profit for the company is',np.round(Fifth_percentile,2),'Million$')\n",
    "print('The 5th percentile of Profit for the company is',np.round((Fifth_percentile*45)/10,),'Crore Rupees')\n"
   ]
  },
  {
   "cell_type": "code",
   "execution_count": 10,
   "id": "d0c05033",
   "metadata": {},
   "outputs": [],
   "source": [
    "#C. Which of the two divisions has a larger probability of making a loss in a given year?"
   ]
  },
  {
   "cell_type": "code",
   "execution_count": 11,
   "id": "244e7192",
   "metadata": {},
   "outputs": [
    {
     "name": "stdout",
     "output_type": "stream",
     "text": [
      "The Probability of Division #1 making a loss is 4.78 %\n",
      "The Probability of Division #2 making a loss is 4.01 %\n",
      "The Division 1 has a larger Probability of making a loss\n"
     ]
    }
   ],
   "source": [
    "# The probability of Division #1 making a loss\n",
    "print('The Probability of Division #1 making a loss is',np.round((stats.norm.cdf(0,5,3))*100,2),'%')\n",
    "\n",
    "# The probability of Division #2 making a loss\n",
    "print('The Probability of Division #2 making a loss is',np.round((stats.norm.cdf(0,7,4))*100,2),'%')\n",
    "\n",
    "Division1 = (stats.norm.cdf(0,5,3))*100\n",
    "Division2 = (stats.norm.cdf(0,7,4))*100\n",
    "\n",
    "if Division1>Division2:\n",
    "    print('The Division 1 has a larger Probability of making a loss')\n",
    "else:\n",
    "          print('The Division 2 has a larger Porbability of making a loss')"
   ]
  },
  {
   "cell_type": "code",
   "execution_count": null,
   "id": "802fbecc",
   "metadata": {},
   "outputs": [],
   "source": []
  },
  {
   "cell_type": "code",
   "execution_count": null,
   "id": "1300347f",
   "metadata": {},
   "outputs": [],
   "source": []
  },
  {
   "cell_type": "code",
   "execution_count": null,
   "id": "5a0f9c0d",
   "metadata": {},
   "outputs": [],
   "source": []
  },
  {
   "cell_type": "code",
   "execution_count": null,
   "id": "fbc2089d",
   "metadata": {},
   "outputs": [],
   "source": []
  },
  {
   "cell_type": "code",
   "execution_count": null,
   "id": "e7b7b39b",
   "metadata": {},
   "outputs": [],
   "source": []
  }
 ],
 "metadata": {
  "kernelspec": {
   "display_name": "Python 3 (ipykernel)",
   "language": "python",
   "name": "python3"
  },
  "language_info": {
   "codemirror_mode": {
    "name": "ipython",
    "version": 3
   },
   "file_extension": ".py",
   "mimetype": "text/x-python",
   "name": "python",
   "nbconvert_exporter": "python",
   "pygments_lexer": "ipython3",
   "version": "3.9.12"
  }
 },
 "nbformat": 4,
 "nbformat_minor": 5
}
